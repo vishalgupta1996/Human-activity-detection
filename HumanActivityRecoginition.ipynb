{
 "cells": [
  {
   "cell_type": "code",
   "execution_count": 5,
   "metadata": {},
   "outputs": [],
   "source": [
    "# Importing Libraries"
   ]
  },
  {
   "cell_type": "code",
   "execution_count": 6,
   "metadata": {},
   "outputs": [],
   "source": [
    "import pandas as pd\n",
    "import numpy as np"
   ]
  },
  {
   "cell_type": "code",
   "execution_count": 7,
   "metadata": {},
   "outputs": [],
   "source": [
    "# Activities are the class labels\n",
    "# It is a 6 class classification\n",
    "ACTIVITIES = {\n",
    "    0: 'WALKING',\n",
    "    1: 'WALKING_UPSTAIRS',\n",
    "    2: 'WALKING_DOWNSTAIRS',\n",
    "    3: 'SITTING',\n",
    "    4: 'STANDING',\n",
    "    5: 'LAYING',\n",
    "}\n",
    "\n",
    "# Utility function to print the confusion matrix\n",
    "def confusion_matrix(Y_true, Y_pred):\n",
    "    Y_true = pd.Series([ACTIVITIES[y] for y in np.argmax(Y_true, axis=1)])\n",
    "    Y_pred = pd.Series([ACTIVITIES[y] for y in np.argmax(Y_pred, axis=1)])\n",
    "\n",
    "    return pd.crosstab(Y_true, Y_pred, rownames=['True'], colnames=['Pred'])"
   ]
  },
  {
   "cell_type": "markdown",
   "metadata": {},
   "source": [
    "### Data"
   ]
  },
  {
   "cell_type": "code",
   "execution_count": 8,
   "metadata": {},
   "outputs": [],
   "source": [
    "# Data directory\n",
    "DATADIR = 'UCI_HAR_Dataset'"
   ]
  },
  {
   "cell_type": "code",
   "execution_count": 9,
   "metadata": {},
   "outputs": [],
   "source": [
    "# Raw data signals\n",
    "# Signals are from Accelerometer and Gyroscope\n",
    "# The signals are in x,y,z directions\n",
    "# Sensor signals are filtered to have only body acceleration\n",
    "# excluding the acceleration due to gravity\n",
    "# Triaxial acceleration from the accelerometer is total acceleration\n",
    "SIGNALS = [\n",
    "    \"body_acc_x\",\n",
    "    \"body_acc_y\",\n",
    "    \"body_acc_z\",\n",
    "    \"body_gyro_x\",\n",
    "    \"body_gyro_y\",\n",
    "    \"body_gyro_z\",\n",
    "    \"total_acc_x\",\n",
    "    \"total_acc_y\",\n",
    "    \"total_acc_z\"\n",
    "]"
   ]
  },
  {
   "cell_type": "code",
   "execution_count": 10,
   "metadata": {},
   "outputs": [],
   "source": [
    "# Utility function to read the data from csv file\n",
    "def _read_csv(filename):\n",
    "    return pd.read_csv(filename, delim_whitespace=True, header=None)\n",
    "\n",
    "# Utility function to load the load\n",
    "def load_signals(subset):\n",
    "    signals_data = []\n",
    "\n",
    "    for signal in SIGNALS:\n",
    "        filename = f'UCI_HAR_Dataset/{subset}/Inertial Signals/{signal}_{subset}.txt'\n",
    "        signals_data.append(\n",
    "            _read_csv(filename).as_matrix()\n",
    "        ) \n",
    "\n",
    "    # Transpose is used to change the dimensionality of the output,\n",
    "    # aggregating the signals by combination of sample/timestep.\n",
    "    # Resultant shape is (7352 train/2947 test samples, 128 timesteps, 9 signals)\n",
    "    return np.transpose(signals_data, (1, 2, 0))"
   ]
  },
  {
   "cell_type": "code",
   "execution_count": 11,
   "metadata": {},
   "outputs": [],
   "source": [
    "\n",
    "def load_y(subset):\n",
    "    \"\"\"\n",
    "    The objective that we are trying to predict is a integer, from 1 to 6,\n",
    "    that represents a human activity. We return a binary representation of \n",
    "    every sample objective as a 6 bits vector using One Hot Encoding\n",
    "    (https://pandas.pydata.org/pandas-docs/stable/generated/pandas.get_dummies.html)\n",
    "    \"\"\"\n",
    "    filename = f'UCI_HAR_Dataset/{subset}/y_{subset}.txt'\n",
    "    y = _read_csv(filename)[0]\n",
    "\n",
    "    return pd.get_dummies(y).as_matrix()"
   ]
  },
  {
   "cell_type": "code",
   "execution_count": 12,
   "metadata": {},
   "outputs": [],
   "source": [
    "def load_data():\n",
    "    \"\"\"\n",
    "    Obtain the dataset from multiple files.\n",
    "    Returns: X_train, X_test, y_train, y_test\n",
    "    \"\"\"\n",
    "    X_train, X_test = load_signals('train'), load_signals('test')\n",
    "    y_train, y_test = load_y('train'), load_y('test')\n",
    "\n",
    "    return X_train, X_test, y_train, y_test"
   ]
  },
  {
   "cell_type": "code",
   "execution_count": 13,
   "metadata": {},
   "outputs": [],
   "source": [
    "# Importing tensorflow\n",
    "np.random.seed(42)\n",
    "import tensorflow as tf\n",
    "tf.set_random_seed(42)"
   ]
  },
  {
   "cell_type": "code",
   "execution_count": 14,
   "metadata": {},
   "outputs": [],
   "source": [
    "# Configuring a session\n",
    "session_conf = tf.ConfigProto(\n",
    "    intra_op_parallelism_threads=1,\n",
    "    inter_op_parallelism_threads=1\n",
    ")"
   ]
  },
  {
   "cell_type": "code",
   "execution_count": 15,
   "metadata": {},
   "outputs": [
    {
     "name": "stderr",
     "output_type": "stream",
     "text": [
      "Using TensorFlow backend.\n"
     ]
    }
   ],
   "source": [
    "# Import Keras\n",
    "from keras import backend as K\n",
    "sess = tf.Session(graph=tf.get_default_graph(), config=session_conf)\n",
    "K.set_session(sess)"
   ]
  },
  {
   "cell_type": "code",
   "execution_count": 30,
   "metadata": {},
   "outputs": [],
   "source": [
    "# Importing libraries\n",
    "from keras.models import Sequential\n",
    "from keras.layers import LSTM\n",
    "from keras.layers.core import Dense, Dropout\n",
    "from keras.layers.normalization import BatchNormalization"
   ]
  },
  {
   "cell_type": "code",
   "execution_count": 17,
   "metadata": {},
   "outputs": [],
   "source": [
    "# Initializing parameters\n",
    "epochs = 30\n",
    "batch_size = 16\n",
    "n_hidden = 32"
   ]
  },
  {
   "cell_type": "code",
   "execution_count": 18,
   "metadata": {},
   "outputs": [],
   "source": [
    "# Utility function to count the number of classes\n",
    "def _count_classes(y):\n",
    "    return len(set([tuple(category) for category in y]))"
   ]
  },
  {
   "cell_type": "code",
   "execution_count": 19,
   "metadata": {},
   "outputs": [
    {
     "name": "stderr",
     "output_type": "stream",
     "text": [
      "C:\\Users\\visharag\\Anaconda3\\lib\\site-packages\\ipykernel_launcher.py:12: FutureWarning: Method .as_matrix will be removed in a future version. Use .values instead.\n",
      "  if sys.path[0] == '':\n"
     ]
    }
   ],
   "source": [
    "# Loading the train and test data\n",
    "X_train, X_test, Y_train, Y_test = load_data()"
   ]
  },
  {
   "cell_type": "code",
   "execution_count": 20,
   "metadata": {},
   "outputs": [
    {
     "name": "stdout",
     "output_type": "stream",
     "text": [
      "128\n",
      "9\n",
      "7352\n"
     ]
    }
   ],
   "source": [
    "timesteps = len(X_train[0])\n",
    "input_dim = len(X_train[0][0])\n",
    "n_classes = _count_classes(Y_train)\n",
    "\n",
    "print(timesteps)\n",
    "print(input_dim)\n",
    "print(len(X_train))"
   ]
  },
  {
   "cell_type": "markdown",
   "metadata": {},
   "source": [
    "- Defining the Architecture of LSTM"
   ]
  },
  {
   "cell_type": "code",
   "execution_count": 21,
   "metadata": {},
   "outputs": [
    {
     "name": "stdout",
     "output_type": "stream",
     "text": [
      "WARNING:tensorflow:From C:\\Users\\visharag\\Anaconda3\\lib\\site-packages\\tensorflow\\python\\framework\\op_def_library.py:263: colocate_with (from tensorflow.python.framework.ops) is deprecated and will be removed in a future version.\n",
      "Instructions for updating:\n",
      "Colocations handled automatically by placer.\n",
      "WARNING:tensorflow:From C:\\Users\\visharag\\Anaconda3\\lib\\site-packages\\keras\\backend\\tensorflow_backend.py:3445: calling dropout (from tensorflow.python.ops.nn_ops) with keep_prob is deprecated and will be removed in a future version.\n",
      "Instructions for updating:\n",
      "Please use `rate` instead of `keep_prob`. Rate should be set to `rate = 1 - keep_prob`.\n",
      "_________________________________________________________________\n",
      "Layer (type)                 Output Shape              Param #   \n",
      "=================================================================\n",
      "lstm_1 (LSTM)                (None, 32)                5376      \n",
      "_________________________________________________________________\n",
      "dropout_1 (Dropout)          (None, 32)                0         \n",
      "_________________________________________________________________\n",
      "dense_1 (Dense)              (None, 6)                 198       \n",
      "=================================================================\n",
      "Total params: 5,574\n",
      "Trainable params: 5,574\n",
      "Non-trainable params: 0\n",
      "_________________________________________________________________\n"
     ]
    }
   ],
   "source": [
    "# Initiliazing the sequential model\n",
    "model = Sequential()\n",
    "# Configuring the parameters\n",
    "model.add(LSTM(n_hidden, input_shape=(timesteps, input_dim)))\n",
    "# Adding a dropout layer\n",
    "model.add(Dropout(0.5))\n",
    "# Adding a dense output layer with sigmoid activation\n",
    "model.add(Dense(n_classes, activation='sigmoid'))\n",
    "model.summary()"
   ]
  },
  {
   "cell_type": "code",
   "execution_count": 22,
   "metadata": {},
   "outputs": [],
   "source": [
    "# Compiling the model\n",
    "model.compile(loss='categorical_crossentropy',\n",
    "              optimizer='rmsprop',\n",
    "              metrics=['accuracy'])"
   ]
  },
  {
   "cell_type": "code",
   "execution_count": 23,
   "metadata": {},
   "outputs": [
    {
     "name": "stdout",
     "output_type": "stream",
     "text": [
      "WARNING:tensorflow:From C:\\Users\\visharag\\Anaconda3\\lib\\site-packages\\tensorflow\\python\\ops\\math_ops.py:3066: to_int32 (from tensorflow.python.ops.math_ops) is deprecated and will be removed in a future version.\n",
      "Instructions for updating:\n",
      "Use tf.cast instead.\n",
      "Train on 7352 samples, validate on 2947 samples\n",
      "Epoch 1/30\n",
      "7352/7352 [==============================] - 26s 3ms/step - loss: 1.3306 - acc: 0.4361 - val_loss: 1.1743 - val_acc: 0.4723\n",
      "Epoch 2/30\n",
      "7352/7352 [==============================] - 24s 3ms/step - loss: 0.9716 - acc: 0.5788 - val_loss: 0.9656 - val_acc: 0.5263ETA: 0s - loss: 0.9773 -\n",
      "Epoch 3/30\n",
      "7352/7352 [==============================] - 25s 3ms/step - loss: 0.7787 - acc: 0.6510 - val_loss: 0.7841 - val_acc: 0.6135\n",
      "Epoch 4/30\n",
      "7352/7352 [==============================] - 26s 4ms/step - loss: 0.6911 - acc: 0.6587 - val_loss: 0.7109 - val_acc: 0.6203\n",
      "Epoch 5/30\n",
      "7352/7352 [==============================] - 25s 3ms/step - loss: 0.6496 - acc: 0.6794 - val_loss: 0.8000 - val_acc: 0.636200 - acc:\n",
      "Epoch 6/30\n",
      "7352/7352 [==============================] - 25s 3ms/step - loss: 0.8295 - acc: 0.6221 - val_loss: 0.7970 - val_acc: 0.6318 - ETA: 0s - loss: 0.8318 - ac\n",
      "Epoch 7/30\n",
      "7352/7352 [==============================] - 25s 3ms/step - loss: 0.5920 - acc: 0.7122 - val_loss: 0.6816 - val_acc: 0.7038\n",
      "Epoch 8/30\n",
      "7352/7352 [==============================] - 25s 3ms/step - loss: 0.5472 - acc: 0.7594 - val_loss: 0.6473 - val_acc: 0.7258\n",
      "Epoch 9/30\n",
      "7352/7352 [==============================] - 25s 3ms/step - loss: 0.4838 - acc: 0.7805 - val_loss: 0.6033 - val_acc: 0.7445\n",
      "Epoch 10/30\n",
      "7352/7352 [==============================] - 25s 3ms/step - loss: 0.4212 - acc: 0.7907 - val_loss: 0.5396 - val_acc: 0.7472\n",
      "Epoch 11/30\n",
      "7352/7352 [==============================] - 25s 3ms/step - loss: 0.3967 - acc: 0.8084 - val_loss: 0.5399 - val_acc: 0.7526\n",
      "Epoch 12/30\n",
      "7352/7352 [==============================] - 25s 3ms/step - loss: 0.3609 - acc: 0.8407 - val_loss: 0.5420 - val_acc: 0.8222\n",
      "Epoch 13/30\n",
      "7352/7352 [==============================] - 25s 3ms/step - loss: 0.3312 - acc: 0.8798 - val_loss: 0.5038 - val_acc: 0.8673\n",
      "Epoch 14/30\n",
      "7352/7352 [==============================] - 25s 3ms/step - loss: 0.3000 - acc: 0.9053 - val_loss: 0.4823 - val_acc: 0.8758\n",
      "Epoch 15/30\n",
      "7352/7352 [==============================] - 25s 3ms/step - loss: 0.2574 - acc: 0.9230 - val_loss: 0.5465 - val_acc: 0.8731\n",
      "Epoch 16/30\n",
      "7352/7352 [==============================] - 26s 3ms/step - loss: 0.2383 - acc: 0.9293 - val_loss: 0.5054 - val_acc: 0.8694\n",
      "Epoch 17/30\n",
      "7352/7352 [==============================] - 25s 3ms/step - loss: 0.2271 - acc: 0.9313 - val_loss: 0.5409 - val_acc: 0.8653\n",
      "Epoch 18/30\n",
      "7352/7352 [==============================] - 26s 4ms/step - loss: 0.2121 - acc: 0.9353 - val_loss: 0.5611 - val_acc: 0.8677\n",
      "Epoch 19/30\n",
      "7352/7352 [==============================] - 25s 3ms/step - loss: 0.2129 - acc: 0.9355 - val_loss: 0.5293 - val_acc: 0.8887\n",
      "Epoch 20/30\n",
      "7352/7352 [==============================] - 27s 4ms/step - loss: 0.1825 - acc: 0.9425 - val_loss: 0.4945 - val_acc: 0.8656\n",
      "Epoch 21/30\n",
      "7352/7352 [==============================] - 26s 4ms/step - loss: 0.1857 - acc: 0.9400 - val_loss: 0.4470 - val_acc: 0.8836\n",
      "Epoch 22/30\n",
      "7352/7352 [==============================] - 27s 4ms/step - loss: 0.1827 - acc: 0.9445 - val_loss: 0.7009 - val_acc: 0.8517\n",
      "Epoch 23/30\n",
      "7352/7352 [==============================] - 26s 4ms/step - loss: 0.1909 - acc: 0.9391 - val_loss: 0.5290 - val_acc: 0.8884\n",
      "Epoch 24/30\n",
      "7352/7352 [==============================] - 26s 3ms/step - loss: 0.1925 - acc: 0.9399 - val_loss: 0.6053 - val_acc: 0.8812\n",
      "Epoch 25/30\n",
      "7352/7352 [==============================] - 26s 4ms/step - loss: 0.1821 - acc: 0.9440 - val_loss: 0.4675 - val_acc: 0.8765\n",
      "Epoch 26/30\n",
      "7352/7352 [==============================] - 26s 3ms/step - loss: 0.1773 - acc: 0.9448 - val_loss: 0.5316 - val_acc: 0.8826\n",
      "Epoch 27/30\n",
      "7352/7352 [==============================] - 25s 3ms/step - loss: 0.1817 - acc: 0.9406 - val_loss: 0.5282 - val_acc: 0.8843\n",
      "Epoch 28/30\n",
      "7352/7352 [==============================] - 27s 4ms/step - loss: 0.1966 - acc: 0.9402 - val_loss: 0.5390 - val_acc: 0.8931\n",
      "Epoch 29/30\n",
      "7352/7352 [==============================] - 25s 3ms/step - loss: 0.2257 - acc: 0.9291 - val_loss: 0.4739 - val_acc: 0.8948\n",
      "Epoch 30/30\n",
      "7352/7352 [==============================] - 27s 4ms/step - loss: 0.1745 - acc: 0.9442 - val_loss: 0.4692 - val_acc: 0.8806\n"
     ]
    },
    {
     "data": {
      "text/plain": [
       "<keras.callbacks.History at 0x1d876f3fe10>"
      ]
     },
     "execution_count": 23,
     "metadata": {},
     "output_type": "execute_result"
    }
   ],
   "source": [
    "# Training the model\n",
    "model.fit(X_train,\n",
    "          Y_train,\n",
    "          batch_size=batch_size,\n",
    "          validation_data=(X_test, Y_test),\n",
    "          epochs=epochs)"
   ]
  },
  {
   "cell_type": "markdown",
   "metadata": {},
   "source": [
    "# Confusion Matrix\n",
    "print(confusion_matrix(Y_test, model.predict(X_test)))"
   ]
  },
  {
   "cell_type": "code",
   "execution_count": 26,
   "metadata": {},
   "outputs": [
    {
     "name": "stdout",
     "output_type": "stream",
     "text": [
      "2947/2947 [==============================] - 1s 323us/step\n"
     ]
    }
   ],
   "source": [
    "score = model.evaluate(X_test, Y_test)"
   ]
  },
  {
   "cell_type": "code",
   "execution_count": 27,
   "metadata": {},
   "outputs": [
    {
     "data": {
      "text/plain": [
       "[0.4692274864947224, 0.8805564981336953]"
      ]
     },
     "execution_count": 27,
     "metadata": {},
     "output_type": "execute_result"
    }
   ],
   "source": [
    "score"
   ]
  },
  {
   "cell_type": "markdown",
   "metadata": {},
   "source": [
    "- With a simple 2 layer architecture we got 90.09% accuracy and a loss of 0.30\n",
    "- We can further imporve the performace with Hyperparameter tuning"
   ]
  },
  {
   "cell_type": "markdown",
   "metadata": {},
   "source": [
    "# Changing dropout rate to 0.4"
   ]
  },
  {
   "cell_type": "code",
   "execution_count": 22,
   "metadata": {},
   "outputs": [],
   "source": [
    "# Initializing parameters\n",
    "epochs = 30\n",
    "batch_size = 16\n",
    "n_hidden = 32"
   ]
  },
  {
   "cell_type": "code",
   "execution_count": 23,
   "metadata": {},
   "outputs": [
    {
     "name": "stdout",
     "output_type": "stream",
     "text": [
      "_________________________________________________________________\n",
      "Layer (type)                 Output Shape              Param #   \n",
      "=================================================================\n",
      "lstm_2 (LSTM)                (None, 32)                5376      \n",
      "_________________________________________________________________\n",
      "dropout_2 (Dropout)          (None, 32)                0         \n",
      "_________________________________________________________________\n",
      "dense_2 (Dense)              (None, 6)                 198       \n",
      "=================================================================\n",
      "Total params: 5,574\n",
      "Trainable params: 5,574\n",
      "Non-trainable params: 0\n",
      "_________________________________________________________________\n"
     ]
    }
   ],
   "source": [
    "# Initiliazing the sequential model\n",
    "model = Sequential()\n",
    "# Configuring the parameters\n",
    "model.add(LSTM(n_hidden, input_shape=(timesteps, input_dim)))\n",
    "# Adding a dropout layer\n",
    "model.add(Dropout(0.2))\n",
    "# Adding a dense output layer with sigmoid activation\n",
    "model.add(Dense(n_classes, activation='sigmoid'))\n",
    "model.summary()"
   ]
  },
  {
   "cell_type": "code",
   "execution_count": 24,
   "metadata": {},
   "outputs": [],
   "source": [
    "# Compiling the model\n",
    "model.compile(loss='categorical_crossentropy',\n",
    "              optimizer='rmsprop',\n",
    "              metrics=['accuracy'])"
   ]
  },
  {
   "cell_type": "code",
   "execution_count": 25,
   "metadata": {},
   "outputs": [
    {
     "name": "stdout",
     "output_type": "stream",
     "text": [
      "Train on 7352 samples, validate on 2947 samples\n",
      "Epoch 1/30\n",
      "7352/7352 [==============================] - 69s 9ms/step - loss: 1.1882 - acc: 0.5069 - val_loss: 1.0581 - val_acc: 0.5002\n",
      "Epoch 2/30\n",
      "7352/7352 [==============================] - 67s 9ms/step - loss: 0.8497 - acc: 0.6107 - val_loss: 0.7914 - val_acc: 0.6047\n",
      "Epoch 3/30\n",
      "7352/7352 [==============================] - 67s 9ms/step - loss: 0.7486 - acc: 0.6391 - val_loss: 0.8275 - val_acc: 0.5711\n",
      "Epoch 4/30\n",
      "7352/7352 [==============================] - 66s 9ms/step - loss: 0.7175 - acc: 0.6442 - val_loss: 0.7364 - val_acc: 0.6193\n",
      "Epoch 5/30\n",
      "7352/7352 [==============================] - 65s 9ms/step - loss: 0.6340 - acc: 0.7125 - val_loss: 0.6244 - val_acc: 0.7319\n",
      "Epoch 6/30\n",
      "7352/7352 [==============================] - 64s 9ms/step - loss: 0.5213 - acc: 0.7779 - val_loss: 0.5573 - val_acc: 0.7604\n",
      "Epoch 7/30\n",
      "7352/7352 [==============================] - 62s 8ms/step - loss: 0.4497 - acc: 0.8187 - val_loss: 0.5333 - val_acc: 0.7788\n",
      "Epoch 8/30\n",
      "7352/7352 [==============================] - 64s 9ms/step - loss: 0.3673 - acc: 0.8682 - val_loss: 0.4685 - val_acc: 0.8412\n",
      "Epoch 9/30\n",
      "7352/7352 [==============================] - 63s 9ms/step - loss: 0.3012 - acc: 0.9008 - val_loss: 0.5120 - val_acc: 0.8283\n",
      "Epoch 10/30\n",
      "7352/7352 [==============================] - 63s 9ms/step - loss: 0.2386 - acc: 0.9217 - val_loss: 0.3539 - val_acc: 0.8755\n",
      "Epoch 11/30\n",
      "7352/7352 [==============================] - 64s 9ms/step - loss: 0.2144 - acc: 0.9328 - val_loss: 0.4292 - val_acc: 0.8670\n",
      "Epoch 12/30\n",
      "7352/7352 [==============================] - 63s 9ms/step - loss: 0.2069 - acc: 0.9362 - val_loss: 0.3192 - val_acc: 0.8911\n",
      "Epoch 13/30\n",
      "7352/7352 [==============================] - 63s 9ms/step - loss: 0.1779 - acc: 0.9408 - val_loss: 0.4056 - val_acc: 0.8728\n",
      "Epoch 14/30\n",
      "7352/7352 [==============================] - 65s 9ms/step - loss: 0.1734 - acc: 0.9406 - val_loss: 0.2888 - val_acc: 0.8948\n",
      "Epoch 15/30\n",
      "7352/7352 [==============================] - 64s 9ms/step - loss: 0.1596 - acc: 0.9437 - val_loss: 0.2778 - val_acc: 0.9067\n",
      "Epoch 16/30\n",
      "7352/7352 [==============================] - 64s 9ms/step - loss: 0.1723 - acc: 0.9414 - val_loss: 0.3044 - val_acc: 0.9013\n",
      "Epoch 17/30\n",
      "7352/7352 [==============================] - 63s 9ms/step - loss: 0.1573 - acc: 0.9452 - val_loss: 0.3017 - val_acc: 0.9033\n",
      "Epoch 18/30\n",
      "7352/7352 [==============================] - 63s 9ms/step - loss: 0.1572 - acc: 0.9493 - val_loss: 0.3158 - val_acc: 0.8839\n",
      "Epoch 19/30\n",
      "7352/7352 [==============================] - 61s 8ms/step - loss: 0.1567 - acc: 0.9449 - val_loss: 0.3592 - val_acc: 0.8901\n",
      "Epoch 20/30\n",
      "7352/7352 [==============================] - 60s 8ms/step - loss: 0.1461 - acc: 0.9457 - val_loss: 0.4436 - val_acc: 0.8656\n",
      "Epoch 21/30\n",
      "7352/7352 [==============================] - 61s 8ms/step - loss: 0.1467 - acc: 0.9470 - val_loss: 0.6342 - val_acc: 0.8507\n",
      "Epoch 22/30\n",
      "7352/7352 [==============================] - 60s 8ms/step - loss: 0.1568 - acc: 0.9490 - val_loss: 0.4641 - val_acc: 0.8839\n",
      "Epoch 23/30\n",
      "7352/7352 [==============================] - 61s 8ms/step - loss: 0.1464 - acc: 0.9499 - val_loss: 0.3113 - val_acc: 0.8996\n",
      "Epoch 24/30\n",
      "7352/7352 [==============================] - 60s 8ms/step - loss: 0.1506 - acc: 0.9495 - val_loss: 0.3408 - val_acc: 0.8948\n",
      "Epoch 25/30\n",
      "7352/7352 [==============================] - 60s 8ms/step - loss: 0.1379 - acc: 0.9512 - val_loss: 0.3737 - val_acc: 0.9094\n",
      "Epoch 26/30\n",
      "7352/7352 [==============================] - 60s 8ms/step - loss: 0.1540 - acc: 0.9474 - val_loss: 0.2832 - val_acc: 0.9108\n",
      "Epoch 27/30\n",
      "7352/7352 [==============================] - 60s 8ms/step - loss: 0.1463 - acc: 0.9517 - val_loss: 0.4342 - val_acc: 0.8829\n",
      "Epoch 28/30\n",
      "7352/7352 [==============================] - 60s 8ms/step - loss: 0.1392 - acc: 0.9493 - val_loss: 0.3413 - val_acc: 0.8911\n",
      "Epoch 29/30\n",
      "7352/7352 [==============================] - 60s 8ms/step - loss: 0.1397 - acc: 0.9499 - val_loss: 0.3892 - val_acc: 0.8901\n",
      "Epoch 30/30\n",
      "7352/7352 [==============================] - 60s 8ms/step - loss: 0.1463 - acc: 0.9517 - val_loss: 0.3022 - val_acc: 0.9016\n"
     ]
    },
    {
     "data": {
      "text/plain": [
       "<keras.callbacks.History at 0x227120db160>"
      ]
     },
     "execution_count": 25,
     "metadata": {},
     "output_type": "execute_result"
    }
   ],
   "source": [
    "# Training the model\n",
    "model.fit(X_train,\n",
    "          Y_train,\n",
    "          batch_size=batch_size,\n",
    "          validation_data=(X_test, Y_test),\n",
    "          epochs=epochs)"
   ]
  },
  {
   "cell_type": "code",
   "execution_count": 26,
   "metadata": {},
   "outputs": [
    {
     "name": "stdout",
     "output_type": "stream",
     "text": [
      "Pred                LAYING  SITTING  STANDING  WALKING  WALKING_DOWNSTAIRS  \\\n",
      "True                                                                         \n",
      "LAYING                 510        0        27        0                   0   \n",
      "SITTING                  0      420        67        3                   0   \n",
      "STANDING                 0      122       406        4                   0   \n",
      "WALKING                  0        0         0      452                  21   \n",
      "WALKING_DOWNSTAIRS       0        0         0        1                 415   \n",
      "WALKING_UPSTAIRS         0        6         0       10                   1   \n",
      "\n",
      "Pred                WALKING_UPSTAIRS  \n",
      "True                                  \n",
      "LAYING                             0  \n",
      "SITTING                            1  \n",
      "STANDING                           0  \n",
      "WALKING                           23  \n",
      "WALKING_DOWNSTAIRS                 4  \n",
      "WALKING_UPSTAIRS                 454  \n"
     ]
    }
   ],
   "source": [
    "# Confusion Matrix\n",
    "print(confusion_matrix(Y_test, model.predict(X_test)))"
   ]
  },
  {
   "cell_type": "code",
   "execution_count": 27,
   "metadata": {},
   "outputs": [
    {
     "name": "stdout",
     "output_type": "stream",
     "text": [
      "2947/2947 [==============================] - 2s 805us/step\n"
     ]
    }
   ],
   "source": [
    "score = model.evaluate(X_test, Y_test)"
   ]
  },
  {
   "cell_type": "code",
   "execution_count": 28,
   "metadata": {},
   "outputs": [
    {
     "data": {
      "text/plain": [
       "[0.3021738717609319, 0.9015948422124194]"
      ]
     },
     "execution_count": 28,
     "metadata": {},
     "output_type": "execute_result"
    }
   ],
   "source": [
    "score"
   ]
  },
  {
   "cell_type": "markdown",
   "metadata": {},
   "source": [
    "# Adding Batch Normalization Layer"
   ]
  },
  {
   "cell_type": "code",
   "execution_count": 28,
   "metadata": {},
   "outputs": [],
   "source": [
    "# Initializing parameters\n",
    "epochs = 30\n",
    "batch_size = 32\n",
    "n_hidden = 128"
   ]
  },
  {
   "cell_type": "markdown",
   "metadata": {},
   "source": [
    "> Defining the Architecture of LSTM\n"
   ]
  },
  {
   "cell_type": "code",
   "execution_count": 31,
   "metadata": {},
   "outputs": [
    {
     "name": "stdout",
     "output_type": "stream",
     "text": [
      "_________________________________________________________________\n",
      "Layer (type)                 Output Shape              Param #   \n",
      "=================================================================\n",
      "lstm_3 (LSTM)                (None, 128)               70656     \n",
      "_________________________________________________________________\n",
      "batch_normalization_1 (Batch (None, 128)               512       \n",
      "_________________________________________________________________\n",
      "dropout_2 (Dropout)          (None, 128)               0         \n",
      "_________________________________________________________________\n",
      "dense_2 (Dense)              (None, 6)                 774       \n",
      "=================================================================\n",
      "Total params: 71,942\n",
      "Trainable params: 71,686\n",
      "Non-trainable params: 256\n",
      "_________________________________________________________________\n"
     ]
    }
   ],
   "source": [
    "# Initiliazing the sequential model\n",
    "model = Sequential()\n",
    "# Configuring the parameters\n",
    "model.add(LSTM(n_hidden, input_shape=(timesteps, input_dim)))\n",
    "model.add(BatchNormalization())\n",
    "# Adding a dropout layer\n",
    "model.add(Dropout(0.25))\n",
    "# Adding a dense output layer with sigmoid activation\n",
    "model.add(Dense(n_classes, activation='sigmoid'))\n",
    "model.summary()"
   ]
  },
  {
   "cell_type": "code",
   "execution_count": 32,
   "metadata": {},
   "outputs": [],
   "source": [
    "\n",
    "# Compiling the model\n",
    "model.compile(loss='categorical_crossentropy',\n",
    "              optimizer='rmsprop',\n",
    "              metrics=['accuracy'])"
   ]
  },
  {
   "cell_type": "code",
   "execution_count": 33,
   "metadata": {},
   "outputs": [
    {
     "name": "stdout",
     "output_type": "stream",
     "text": [
      "Train on 7352 samples, validate on 2947 samples\n",
      "Epoch 1/30\n",
      "7352/7352 [==============================] - 38s 5ms/step - loss: 1.0260 - acc: 0.5520 - val_loss: 0.9643 - val_acc: 0.6026\n",
      "Epoch 2/30\n",
      "7352/7352 [==============================] - 37s 5ms/step - loss: 0.7538 - acc: 0.6239 - val_loss: 0.8598 - val_acc: 0.6132\n",
      "Epoch 3/30\n",
      "7352/7352 [==============================] - 37s 5ms/step - loss: 0.6972 - acc: 0.6555 - val_loss: 0.9462 - val_acc: 0.5928\n",
      "Epoch 4/30\n",
      "7352/7352 [==============================] - 37s 5ms/step - loss: 0.6210 - acc: 0.6868 - val_loss: 0.7735 - val_acc: 0.6291\n",
      "Epoch 5/30\n",
      "7352/7352 [==============================] - 38s 5ms/step - loss: 0.5964 - acc: 0.7216 - val_loss: 0.9046 - val_acc: 0.6373\n",
      "Epoch 6/30\n",
      "7352/7352 [==============================] - 38s 5ms/step - loss: 0.4726 - acc: 0.8069 - val_loss: 0.4613 - val_acc: 0.8402\n",
      "Epoch 7/30\n",
      "7352/7352 [==============================] - 39s 5ms/step - loss: 0.3056 - acc: 0.9003 - val_loss: 0.3935 - val_acc: 0.8602\n",
      "Epoch 8/30\n",
      "7352/7352 [==============================] - 39s 5ms/step - loss: 0.1992 - acc: 0.9301 - val_loss: 0.3821 - val_acc: 0.8951\n",
      "Epoch 9/30\n",
      "7352/7352 [==============================] - 37s 5ms/step - loss: 0.1870 - acc: 0.9329 - val_loss: 0.2986 - val_acc: 0.8962\n",
      "Epoch 10/30\n",
      "7352/7352 [==============================] - 37s 5ms/step - loss: 0.1659 - acc: 0.9376 - val_loss: 0.4854 - val_acc: 0.8487\n",
      "Epoch 11/30\n",
      "7352/7352 [==============================] - 39s 5ms/step - loss: 0.1489 - acc: 0.9416 - val_loss: 0.2320 - val_acc: 0.9152\n",
      "Epoch 12/30\n",
      "7352/7352 [==============================] - 39s 5ms/step - loss: 0.1498 - acc: 0.9436 - val_loss: 0.2492 - val_acc: 0.9131\n",
      "Epoch 13/30\n",
      "7352/7352 [==============================] - 36s 5ms/step - loss: 0.1534 - acc: 0.9448 - val_loss: 0.2040 - val_acc: 0.9182\n",
      "Epoch 14/30\n",
      "7352/7352 [==============================] - 48s 7ms/step - loss: 0.1447 - acc: 0.9452 - val_loss: 0.3962 - val_acc: 0.9152\n",
      "Epoch 15/30\n",
      "7352/7352 [==============================] - 74s 10ms/step - loss: 0.1414 - acc: 0.9476 - val_loss: 0.2605 - val_acc: 0.9223\n",
      "Epoch 16/30\n",
      "7352/7352 [==============================] - 74s 10ms/step - loss: 0.1302 - acc: 0.9472 - val_loss: 0.2949 - val_acc: 0.9114\n",
      "Epoch 17/30\n",
      "7352/7352 [==============================] - 77s 10ms/step - loss: 0.1335 - acc: 0.9516 - val_loss: 0.2892 - val_acc: 0.9145\n",
      "Epoch 18/30\n",
      "7352/7352 [==============================] - 71s 10ms/step - loss: 0.1334 - acc: 0.9498 - val_loss: 0.2539 - val_acc: 0.9199\n",
      "Epoch 19/30\n",
      "7352/7352 [==============================] - 63s 9ms/step - loss: 0.1271 - acc: 0.9498 - val_loss: 0.6957 - val_acc: 0.8751\n",
      "Epoch 20/30\n",
      "7352/7352 [==============================] - 59s 8ms/step - loss: 0.1361 - acc: 0.9494 - val_loss: 0.2458 - val_acc: 0.9301\n",
      "Epoch 21/30\n",
      "7352/7352 [==============================] - 60s 8ms/step - loss: 0.1257 - acc: 0.9509 - val_loss: 0.2578 - val_acc: 0.9165\n",
      "Epoch 22/30\n",
      "7352/7352 [==============================] - 73s 10ms/step - loss: 0.1290 - acc: 0.9468 - val_loss: 0.5742 - val_acc: 0.9006\n",
      "Epoch 23/30\n",
      "7352/7352 [==============================] - 37s 5ms/step - loss: 0.1323 - acc: 0.9516 - val_loss: 0.3037 - val_acc: 0.9172\n",
      "Epoch 24/30\n",
      "7352/7352 [==============================] - 35s 5ms/step - loss: 0.1194 - acc: 0.9536 - val_loss: 0.2670 - val_acc: 0.9301\n",
      "Epoch 25/30\n",
      "7352/7352 [==============================] - 41s 6ms/step - loss: 0.1319 - acc: 0.9513 - val_loss: 0.3455 - val_acc: 0.9274\n",
      "Epoch 26/30\n",
      "7352/7352 [==============================] - 44s 6ms/step - loss: 0.1420 - acc: 0.9520 - val_loss: 0.9209 - val_acc: 0.8812\n",
      "Epoch 27/30\n",
      "7352/7352 [==============================] - 36s 5ms/step - loss: 0.1325 - acc: 0.9470 - val_loss: 0.2392 - val_acc: 0.9308\n",
      "Epoch 28/30\n",
      "7352/7352 [==============================] - 37s 5ms/step - loss: 0.1177 - acc: 0.9505 - val_loss: 0.3488 - val_acc: 0.9097\n",
      "Epoch 29/30\n",
      "7352/7352 [==============================] - 36s 5ms/step - loss: 0.1262 - acc: 0.9514 - val_loss: 0.4751 - val_acc: 0.8884\n",
      "Epoch 30/30\n",
      "7352/7352 [==============================] - 35s 5ms/step - loss: 0.1290 - acc: 0.9479 - val_loss: 0.3878 - val_acc: 0.9152\n"
     ]
    },
    {
     "data": {
      "text/plain": [
       "<keras.callbacks.History at 0x1d87a4860b8>"
      ]
     },
     "execution_count": 33,
     "metadata": {},
     "output_type": "execute_result"
    }
   ],
   "source": [
    "# Training the model\n",
    "model.fit(X_train,\n",
    "          Y_train,\n",
    "          batch_size=batch_size,\n",
    "          validation_data=(X_test, Y_test),\n",
    "          epochs=epochs)"
   ]
  },
  {
   "cell_type": "code",
   "execution_count": 34,
   "metadata": {},
   "outputs": [
    {
     "name": "stdout",
     "output_type": "stream",
     "text": [
      "Pred                LAYING  SITTING  STANDING  WALKING  WALKING_DOWNSTAIRS  \\\n",
      "True                                                                         \n",
      "LAYING                 533        4         0        0                   0   \n",
      "SITTING                  0      368       121        0                   0   \n",
      "STANDING                 0       50       482        0                   0   \n",
      "WALKING                  0        3         0      480                   9   \n",
      "WALKING_DOWNSTAIRS       0        0         0        8                 412   \n",
      "WALKING_UPSTAIRS         0        8         1       28                  12   \n",
      "\n",
      "Pred                WALKING_UPSTAIRS  \n",
      "True                                  \n",
      "LAYING                             0  \n",
      "SITTING                            2  \n",
      "STANDING                           0  \n",
      "WALKING                            4  \n",
      "WALKING_DOWNSTAIRS                 0  \n",
      "WALKING_UPSTAIRS                 422  \n"
     ]
    }
   ],
   "source": [
    "# Confusion Matrix\n",
    "print(confusion_matrix(Y_test, model.predict(X_test)))"
   ]
  },
  {
   "cell_type": "code",
   "execution_count": 35,
   "metadata": {},
   "outputs": [
    {
     "name": "stdout",
     "output_type": "stream",
     "text": [
      "2947/2947 [==============================] - 3s 950us/step\n"
     ]
    }
   ],
   "source": [
    "score = model.evaluate(X_test, Y_test)"
   ]
  },
  {
   "cell_type": "code",
   "execution_count": 36,
   "metadata": {},
   "outputs": [
    {
     "data": {
      "text/plain": [
       "[0.38777748171767623, 0.9151679674244995]"
      ]
     },
     "execution_count": 36,
     "metadata": {},
     "output_type": "execute_result"
    }
   ],
   "source": [
    "score"
   ]
  },
  {
   "cell_type": "markdown",
   "metadata": {},
   "source": [
    "## With a simple LSTM architecture we got 93.08% accuracy and a loss of 0.23 at epoch number 27"
   ]
  },
  {
   "cell_type": "markdown",
   "metadata": {},
   "source": [
    "# stacking 2 LSTM"
   ]
  },
  {
   "cell_type": "code",
   "execution_count": 37,
   "metadata": {},
   "outputs": [],
   "source": [
    "epochs1 = 30\n",
    "batch_size1= 32\n",
    "n_hidden1 = 128\n",
    "n_hidden2 =64\n",
    "pv1 = 0.2\n",
    "pv2 = 0.5"
   ]
  },
  {
   "cell_type": "code",
   "execution_count": 38,
   "metadata": {},
   "outputs": [
    {
     "name": "stdout",
     "output_type": "stream",
     "text": [
      "_________________________________________________________________\n",
      "Layer (type)                 Output Shape              Param #   \n",
      "=================================================================\n",
      "lstm_4 (LSTM)                (None, 128, 128)          70656     \n",
      "_________________________________________________________________\n",
      "dropout_3 (Dropout)          (None, 128, 128)          0         \n",
      "_________________________________________________________________\n",
      "lstm_5 (LSTM)                (None, 64)                49408     \n",
      "_________________________________________________________________\n",
      "dropout_4 (Dropout)          (None, 64)                0         \n",
      "_________________________________________________________________\n",
      "dense_3 (Dense)              (None, 6)                 390       \n",
      "=================================================================\n",
      "Total params: 120,454\n",
      "Trainable params: 120,454\n",
      "Non-trainable params: 0\n",
      "_________________________________________________________________\n"
     ]
    }
   ],
   "source": [
    "# Initiliazing the sequential model\n",
    "model1 = Sequential()\n",
    "# Configuring the parameters\n",
    "model1.add(LSTM(n_hidden1, return_sequences=True, input_shape=(timesteps, input_dim)))\n",
    "# Adding a dropout layer\n",
    "model1.add(Dropout(pv1))\n",
    "\n",
    "model1.add(LSTM(n_hidden2))\n",
    "# Adding a dropout layer\n",
    "model1.add(Dropout(pv2))\n",
    "# Adding a dense output layer with sigmoid activation\n",
    "model1.add(Dense(n_classes, activation='sigmoid'))\n",
    "model1.summary()"
   ]
  },
  {
   "cell_type": "code",
   "execution_count": 39,
   "metadata": {},
   "outputs": [],
   "source": [
    "# Compiling the model\n",
    "model1.compile(loss='categorical_crossentropy',\n",
    "              optimizer='rmsprop',\n",
    "              metrics=['accuracy'])"
   ]
  },
  {
   "cell_type": "code",
   "execution_count": 40,
   "metadata": {},
   "outputs": [
    {
     "name": "stdout",
     "output_type": "stream",
     "text": [
      "Train on 7352 samples, validate on 2947 samples\n",
      "Epoch 1/30\n",
      "7352/7352 [==============================] - 68s 9ms/step - loss: 1.1499 - acc: 0.5094 - val_loss: 1.0208 - val_acc: 0.4808\n",
      "Epoch 2/30\n",
      "7352/7352 [==============================] - 67s 9ms/step - loss: 0.8676 - acc: 0.6094 - val_loss: 0.7817 - val_acc: 0.6379\n",
      "Epoch 3/30\n",
      "7352/7352 [==============================] - 69s 9ms/step - loss: 0.6877 - acc: 0.6926 - val_loss: 0.6396 - val_acc: 0.7194\n",
      "Epoch 4/30\n",
      "7352/7352 [==============================] - 70s 9ms/step - loss: 0.5113 - acc: 0.7790 - val_loss: 0.4615 - val_acc: 0.8069\n",
      "Epoch 5/30\n",
      "7352/7352 [==============================] - 66s 9ms/step - loss: 0.3618 - acc: 0.8731 - val_loss: 0.3981 - val_acc: 0.8521\n",
      "Epoch 6/30\n",
      "7352/7352 [==============================] - 68s 9ms/step - loss: 0.2408 - acc: 0.9166 - val_loss: 0.3679 - val_acc: 0.8802\n",
      "Epoch 7/30\n",
      "7352/7352 [==============================] - 66s 9ms/step - loss: 0.2124 - acc: 0.9279 - val_loss: 0.3804 - val_acc: 0.8789\n",
      "Epoch 8/30\n",
      "7352/7352 [==============================] - 66s 9ms/step - loss: 0.1834 - acc: 0.9377 - val_loss: 0.3675 - val_acc: 0.8392\n",
      "Epoch 9/30\n",
      "7352/7352 [==============================] - 66s 9ms/step - loss: 0.1627 - acc: 0.9369 - val_loss: 0.3345 - val_acc: 0.9026\n",
      "Epoch 10/30\n",
      "7352/7352 [==============================] - 66s 9ms/step - loss: 0.1889 - acc: 0.9264 - val_loss: 0.4696 - val_acc: 0.8850\n",
      "Epoch 11/30\n",
      "7352/7352 [==============================] - 65s 9ms/step - loss: 0.1738 - acc: 0.9403 - val_loss: 0.3496 - val_acc: 0.8972\n",
      "Epoch 12/30\n",
      "7352/7352 [==============================] - 66s 9ms/step - loss: 0.1647 - acc: 0.9436 - val_loss: 0.3468 - val_acc: 0.8982\n",
      "Epoch 13/30\n",
      "7352/7352 [==============================] - 66s 9ms/step - loss: 0.1429 - acc: 0.9478 - val_loss: 0.3789 - val_acc: 0.9016\n",
      "Epoch 14/30\n",
      "7352/7352 [==============================] - 66s 9ms/step - loss: 0.1289 - acc: 0.9484 - val_loss: 0.4065 - val_acc: 0.9009\n",
      "Epoch 15/30\n",
      "7352/7352 [==============================] - 67s 9ms/step - loss: 0.1295 - acc: 0.9501 - val_loss: 0.5717 - val_acc: 0.8911\n",
      "Epoch 16/30\n",
      "7352/7352 [==============================] - 77s 10ms/step - loss: 0.1233 - acc: 0.9495 - val_loss: 0.3431 - val_acc: 0.9033\n",
      "Epoch 17/30\n",
      "7352/7352 [==============================] - 68s 9ms/step - loss: 0.1439 - acc: 0.9508 - val_loss: 0.5003 - val_acc: 0.9040\n",
      "Epoch 18/30\n",
      "7352/7352 [==============================] - 67s 9ms/step - loss: 0.1403 - acc: 0.9497 - val_loss: 0.3904 - val_acc: 0.9152\n",
      "Epoch 19/30\n",
      "7352/7352 [==============================] - 69s 9ms/step - loss: 0.1437 - acc: 0.9494 - val_loss: 0.3375 - val_acc: 0.9111\n",
      "Epoch 20/30\n",
      "7352/7352 [==============================] - 66s 9ms/step - loss: 0.1260 - acc: 0.9529 - val_loss: 0.5034 - val_acc: 0.8982\n",
      "Epoch 21/30\n",
      "7352/7352 [==============================] - 66s 9ms/step - loss: 0.1401 - acc: 0.9497 - val_loss: 0.8582 - val_acc: 0.8453\n",
      "Epoch 22/30\n",
      "7352/7352 [==============================] - 75s 10ms/step - loss: 0.1530 - acc: 0.9502 - val_loss: 0.3996 - val_acc: 0.9104\n",
      "Epoch 23/30\n",
      "7352/7352 [==============================] - 71s 10ms/step - loss: 0.1280 - acc: 0.9540 - val_loss: 0.3623 - val_acc: 0.9213\n",
      "Epoch 24/30\n",
      "7352/7352 [==============================] - 69s 9ms/step - loss: 0.1184 - acc: 0.9544 - val_loss: 0.3439 - val_acc: 0.9104\n",
      "Epoch 25/30\n",
      "7352/7352 [==============================] - 70s 9ms/step - loss: 0.1199 - acc: 0.9546 - val_loss: 0.3906 - val_acc: 0.8945\n",
      "Epoch 26/30\n",
      "7352/7352 [==============================] - 69s 9ms/step - loss: 0.1242 - acc: 0.9497 - val_loss: 0.4664 - val_acc: 0.9114\n",
      "Epoch 27/30\n",
      "7352/7352 [==============================] - 69s 9ms/step - loss: 0.1181 - acc: 0.9520 - val_loss: 0.4634 - val_acc: 0.9125\n",
      "Epoch 28/30\n",
      "7352/7352 [==============================] - 69s 9ms/step - loss: 0.1150 - acc: 0.9523 - val_loss: 0.5113 - val_acc: 0.9036\n",
      "Epoch 29/30\n",
      "7352/7352 [==============================] - 67s 9ms/step - loss: 0.1196 - acc: 0.9531 - val_loss: 0.3302 - val_acc: 0.9196\n",
      "Epoch 30/30\n",
      "7352/7352 [==============================] - 67s 9ms/step - loss: 0.1282 - acc: 0.9517 - val_loss: 0.5846 - val_acc: 0.8880\n"
     ]
    },
    {
     "data": {
      "text/plain": [
       "<keras.callbacks.History at 0x1d805e645c0>"
      ]
     },
     "execution_count": 40,
     "metadata": {},
     "output_type": "execute_result"
    }
   ],
   "source": [
    "# Training the model\n",
    "model1.fit(X_train,\n",
    "          Y_train,\n",
    "          batch_size=batch_size,\n",
    "          validation_data=(X_test, Y_test),\n",
    "          epochs=epochs1)"
   ]
  },
  {
   "cell_type": "code",
   "execution_count": 41,
   "metadata": {},
   "outputs": [
    {
     "name": "stdout",
     "output_type": "stream",
     "text": [
      "2947/2947 [==============================] - 5s 2ms/step\n"
     ]
    }
   ],
   "source": [
    "score1 = model1.evaluate(X_test, Y_test)"
   ]
  },
  {
   "cell_type": "code",
   "execution_count": 42,
   "metadata": {},
   "outputs": [
    {
     "data": {
      "text/plain": [
       "[0.5845529814390626, 0.8880217170003394]"
      ]
     },
     "execution_count": 42,
     "metadata": {},
     "output_type": "execute_result"
    }
   ],
   "source": [
    "score1"
   ]
  },
  {
   "cell_type": "markdown",
   "metadata": {},
   "source": [
    "## With a stacked LSTM architecture we got 92.13% accuracy and a loss of 0.36 at epoch number 23"
   ]
  },
  {
   "cell_type": "markdown",
   "metadata": {},
   "source": [
    "# I got accuracy of 93.08% in previous simple LSTM layer.."
   ]
  },
  {
   "cell_type": "code",
   "execution_count": null,
   "metadata": {},
   "outputs": [],
   "source": []
  }
 ],
 "metadata": {
  "kernelspec": {
   "display_name": "Python 3",
   "language": "python",
   "name": "python3"
  },
  "language_info": {
   "codemirror_mode": {
    "name": "ipython",
    "version": 3
   },
   "file_extension": ".py",
   "mimetype": "text/x-python",
   "name": "python",
   "nbconvert_exporter": "python",
   "pygments_lexer": "ipython3",
   "version": "3.7.3"
  }
 },
 "nbformat": 4,
 "nbformat_minor": 2
}
